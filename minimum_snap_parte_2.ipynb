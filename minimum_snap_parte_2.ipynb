{
 "cells": [
  {
   "cell_type": "code",
   "execution_count": 1,
   "metadata": {},
   "outputs": [
    {
     "name": "stderr",
     "output_type": "stream",
     "text": [
      "\u001b[32m\u001b[1m    Updating\u001b[22m\u001b[39m registry at `C:\\Users\\Visagio\\.julia\\registries\\General.toml`\n",
      "\u001b[32m\u001b[1m   Resolving\u001b[22m\u001b[39m package versions...\n",
      "\u001b[32m\u001b[1m  No Changes\u001b[22m\u001b[39m to `C:\\Users\\Visagio\\.julia\\environments\\v1.7\\Project.toml`\n",
      "\u001b[32m\u001b[1m  No Changes\u001b[22m\u001b[39m to `C:\\Users\\Visagio\\.julia\\environments\\v1.7\\Manifest.toml`\n",
      "\u001b[32m\u001b[1m   Resolving\u001b[22m\u001b[39m package versions...\n",
      "\u001b[32m\u001b[1m   Installed\u001b[22m\u001b[39m Compat ─ v3.42.0\n",
      "\u001b[32m\u001b[1m    Updating\u001b[22m\u001b[39m `C:\\Users\\Visagio\\.julia\\environments\\v1.7\\Project.toml`\n",
      " \u001b[90m [34da2185] \u001b[39m\u001b[92m+ Compat v3.42.0\u001b[39m\n",
      "\u001b[32m\u001b[1m    Updating\u001b[22m\u001b[39m `C:\\Users\\Visagio\\.julia\\environments\\v1.7\\Manifest.toml`\n",
      " \u001b[90m [34da2185] \u001b[39m\u001b[93m↑ Compat v3.41.0 ⇒ v3.42.0\u001b[39m\n",
      "\u001b[32m\u001b[1mPrecompiling\u001b[22m\u001b[39m project...\n",
      "\u001b[32m  ✓ \u001b[39mCompat\n",
      "\u001b[32m  ✓ \u001b[39m\u001b[90mChainRulesCore\u001b[39m\n",
      "\u001b[32m  ✓ \u001b[39m\u001b[90mArrayInterface\u001b[39m\n",
      "\u001b[32m  ✓ \u001b[39m\u001b[90mChangesOfVariables\u001b[39m\n",
      "\u001b[32m  ✓ \u001b[39m\u001b[90mDataStructures\u001b[39m\n",
      "\u001b[32m  ✓ \u001b[39m\u001b[90mFiniteDifferences\u001b[39m\n",
      "\u001b[32m  ✓ \u001b[39m\u001b[90mSortingAlgorithms\u001b[39m\n",
      "\u001b[32m  ✓ \u001b[39m\u001b[90mFiniteDiff\u001b[39m\n",
      "\u001b[32m  ✓ \u001b[39m\u001b[90mQuadGK\u001b[39m\n",
      "\u001b[32m  ✓ \u001b[39m\u001b[90mLogExpFunctions\u001b[39m\n",
      "\u001b[32m  ✓ \u001b[39mBlockDiagonals\n",
      "\u001b[32m  ✓ \u001b[39m\u001b[90mStatsBase\u001b[39m\n",
      "\u001b[32m  ✓ \u001b[39m\u001b[90mSpecialFunctions\u001b[39m\n",
      "\u001b[32m  ✓ \u001b[39m\u001b[90mDiffRules\u001b[39m\n",
      "\u001b[32m  ✓ \u001b[39m\u001b[90mStatsFuns\u001b[39m\n",
      "\u001b[32m  ✓ \u001b[39m\u001b[90mForwardDiff\u001b[39m\n",
      "\u001b[32m  ✓ \u001b[39m\u001b[90mNLSolversBase\u001b[39m\n",
      "\u001b[32m  ✓ \u001b[39m\u001b[90mOptimBase\u001b[39m\n",
      "\u001b[32m  ✓ \u001b[39m\u001b[90mDistributions\u001b[39m\n",
      "\u001b[32m  ✓ \u001b[39mLsqFit\n",
      "\u001b[32m  ✓ \u001b[39mJuMP\n",
      "\u001b[32m  ✓ \u001b[39mPlots\n",
      "  22 dependencies successfully precompiled in 110 seconds (174 already precompiled, 1 skipped during auto due to previous errors)\n",
      "\u001b[32m\u001b[1m   Resolving\u001b[22m\u001b[39m package versions...\n",
      "\u001b[32m\u001b[1m  No Changes\u001b[22m\u001b[39m to `C:\\Users\\Visagio\\.julia\\environments\\v1.7\\Project.toml`\n",
      "\u001b[32m\u001b[1m  No Changes\u001b[22m\u001b[39m to `C:\\Users\\Visagio\\.julia\\environments\\v1.7\\Manifest.toml`\n"
     ]
    }
   ],
   "source": [
    "import Pkg\n",
    "\n",
    "Pkg.add(\"OSQP\")\n",
    "Pkg.add(\"Compat\")\n",
    "Pkg.add(\"BlockDiagonals\")"
   ]
  },
  {
   "cell_type": "code",
   "execution_count": 2,
   "metadata": {},
   "outputs": [],
   "source": [
    "using OSQP\n",
    "using Compat.SparseArrays"
   ]
  },
  {
   "cell_type": "code",
   "execution_count": 3,
   "metadata": {},
   "outputs": [
    {
     "data": {
      "text/plain": [
       "3-element Vector{Float64}:\n",
       " 2.0\n",
       " 2.0\n",
       " 3.0"
      ]
     },
     "metadata": {},
     "output_type": "display_data"
    }
   ],
   "source": [
    "# Define problem data\n",
    "\n",
    "P = sparse([1. -1.; -1. 2.])         # H -- itens de x^2\n",
    "q = [-2.; -6.]                       # f -- itens de x\n",
    "\n",
    "# restrições\n",
    "A = sparse([1. 1.; -1. 2.; 2. 1.])  # A -- multiplica x\n",
    "l = [0; 0.; 0.]                   # l =< A =< u        ieq\n",
    "u = [2.; 2.; 3.]                 # l =< A =< u  (b)    ieq"
   ]
  },
  {
   "cell_type": "code",
   "execution_count": 4,
   "metadata": {},
   "outputs": [
    {
     "name": "stdout",
     "output_type": "stream",
     "text": [
      "-----------------------------------------------------------------\n",
      "           OSQP v0.6.2  -  Operator Splitting QP Solver\n",
      "              (c) Bartolomeo Stellato,  Goran Banjac\n",
      "        University of Oxford  -  Stanford University 2021\n",
      "-----------------------------------------------------------------\n",
      "problem:  variables n = 2, constraints m = 3\n",
      "          nnz(P) + nnz(A) = 9\n",
      "settings: linear system solver = qdldl,\n",
      "          eps_abs = 1.0e-003, eps_rel = 1.0e-003,\n",
      "          eps_prim_inf = 1.0e-004, eps_dual_inf = 1.0e-004,\n",
      "          rho = 1.00e-001 (adaptive),\n",
      "          sigma = 1.00e-006, alpha = 1.00, max_iter = 4000\n",
      "          check_termination: on (interval 25),\n",
      "          scaling: on, scaled_termination: off\n",
      "          warm start: on, polish: off, time_limit: off\n",
      "\n",
      "iter  objective    pri res    dua res    rho        time\n",
      "   1 -9.3904e+000  3.61e-001  3.18e+000  1.00e-001  6.67e-005s\n",
      "  25 -8.2241e+000  3.08e-003  1.12e-003  1.00e-001  8.42e-005s\n",
      "\n",
      "status:               solved\n",
      "number of iterations: 25\n",
      "optimal objective:    -8.2241\n",
      "run time:             9.19e-005s\n",
      "optimal rho estimate: 2.03e-001\n",
      "\n"
     ]
    },
    {
     "data": {
      "text/plain": [
       "OSQP.Results([0.6683944868708552, 1.3326560916454187], [3.1114658407398315, 0.44608743111992627, -9.367506770274764e-18], OSQP.Info(25, :Solved, 1, 0, -8.224117654525562, 0.0030823035800174, 0.0011168048453418233, 4.47e-5, 4.72e-5, 0.0, 0.0, 9.190000000000001e-5, 0, 1.101742596e-315), [NaN, NaN, NaN], [NaN, NaN])"
      ]
     },
     "metadata": {},
     "output_type": "display_data"
    }
   ],
   "source": [
    "# Create OSQP object\n",
    "prob = OSQP.Model()\n",
    "\n",
    "# Setup workspace and change alpha parameter\n",
    "OSQP.setup!(prob; P=P, q=q, A=A, l=l,u=u, alpha=1)\n",
    "\n",
    "# Solve problem\n",
    "results = OSQP.solve!(prob)"
   ]
  },
  {
   "cell_type": "code",
   "execution_count": 5,
   "metadata": {},
   "outputs": [
    {
     "data": {
      "text/plain": [
       "6-element Vector{Float64}:\n",
       " 0.0\n",
       " 0.0\n",
       " 0.0\n",
       " 2.0\n",
       " 0.0\n",
       " 0.0"
      ]
     },
     "metadata": {},
     "output_type": "display_data"
    }
   ],
   "source": [
    "# Define problem data\n",
    "\n",
    "# H -- itens de x^2\n",
    "Q_all = 1.0e+06 * sparse([0 0 0 0 0 0; 0 0 0 0 0 0; 0 0 0 0 0 0; 0 0 0 0.0002 0.0018 0.0150; 0 0 0 0.0018 0.0240 0.2250; 0 0 0 0.0150 0.2250 2.2500])      \n",
    "# f -- itens de x\n",
    "b_all = [0.; 0.; 0.; 0.; 0.; 0.]                       \n",
    "\n",
    "# restrições\n",
    "# Aeq\n",
    "A_ = 1.0e+03 * sparse([0.0010 0 0 0 0 0; 0 0.0010 0 0 0 0; 0 0 0.0020 0 0 0; 0.0010 0.0050 0.0250 0.1250 0.6250 3.1250; 0 0.0010 0.0100 0.0750 0.5000 3.1250; 0 0 0.0020 0.0300 0.3000 2.5000]) \n",
    "# beq\n",
    "l_ = [0.; 0.; 0.; 2.; 0.; 0.]                   # l =< A =< u        beq\n",
    "u_ = [0.; 0.; 0.; 2.; 0.; 0.]                   # l =< A =< u  (b)   beq\n"
   ]
  },
  {
   "cell_type": "code",
   "execution_count": 6,
   "metadata": {},
   "outputs": [
    {
     "name": "stdout",
     "output_type": "stream",
     "text": [
      "-----------------------------------------------------------------\n",
      "           OSQP v0.6.2  -  Operator Splitting QP Solver\n",
      "              (c) Bartolomeo Stellato,  Goran Banjac\n",
      "        University of Oxford  -  Stanford University 2021\n",
      "-----------------------------------------------------------------\n",
      "problem:  variables n = 6, constraints m = 6\n",
      "          nnz(P) + nnz(A) = 24\n",
      "settings: linear system solver = qdldl,\n",
      "          eps_abs = 1.0e-003, eps_rel = 1.0e-003,\n",
      "          eps_prim_inf = 1.0e-004, eps_dual_inf = 1.0e-004,\n",
      "          rho = 1.00e-001 (adaptive),\n",
      "          sigma = 1.00e-006, alpha = 1.00, max_iter = 4000\n",
      "          check_termination: on (interval 25),\n",
      "          scaling: on, scaled_termination: off\n",
      "          warm start: on, polish: off, time_limit: off\n",
      "\n",
      "iter  objective    pri res    dua res    rho        time\n",
      "   1  0.0000e+000  2.00e+000  6.61e+004  1.00e-001  5.46e-005s\n",
      "  25  7.1680e-001  1.29e-014  6.44e-012  1.00e-001  6.72e-005s\n",
      "\n",
      "status:               solved\n",
      "number of iterations: 25\n",
      "optimal objective:    0.7168\n",
      "run time:             7.23e-005s\n",
      "optimal rho estimate: 3.76e-002\n",
      "\n"
     ]
    },
    {
     "data": {
      "text/plain": [
       "OSQP.Results([0.0, 7.250496914840555e-20, 8.154508086759954e-20, 0.16000000000000028, -0.048000000000000105, 0.0038400000000000122], [0.7168000000000033, 1.9200000000000086, 1.9200000000000073, -0.7168000000000017, 1.6640000000000088, -1.2800000000000102], OSQP.Info(25, :Solved, 1, 0, 0.7168000000000107, 1.2924229745692364e-14, 6.436900376079254e-12, 4.77e-5, 2.46e-5, 0.0, 0.0, 7.23e-5, 0, 1.184457723e-315), [NaN, NaN, NaN, NaN, NaN, NaN], [NaN, NaN, NaN, NaN, NaN, NaN])"
      ]
     },
     "metadata": {},
     "output_type": "display_data"
    }
   ],
   "source": [
    "# Create OSQP object\n",
    "q_prob = OSQP.Model()\n",
    "\n",
    "# Setup workspace and change alpha parameter\n",
    "OSQP.setup!(q_prob; P=Q_all, q=b_all, A=A_, l=l_, u=u_, alpha=1)\n",
    "\n",
    "# Solve q_problem\n",
    "r = OSQP.solve!(q_prob)"
   ]
  },
  {
   "cell_type": "code",
   "execution_count": 7,
   "metadata": {},
   "outputs": [
    {
     "data": {
      "text/plain": [
       "1×6 Matrix{Float64}:\n",
       " 0.0  7.2505e-20  8.15451e-20  0.16  -0.048  0.00384"
      ]
     },
     "metadata": {},
     "output_type": "display_data"
    }
   ],
   "source": [
    "# n_poly\n",
    "# n_coef\n",
    "reshape(r.x, (1, 6))"
   ]
  }
 ],
 "metadata": {
  "kernelspec": {
   "display_name": "Julia 1.7.1",
   "language": "julia",
   "name": "julia-1.7"
  },
  "language_info": {
   "file_extension": ".jl",
   "mimetype": "application/julia",
   "name": "julia",
   "version": "1.7.1"
  },
  "orig_nbformat": 4
 },
 "nbformat": 4,
 "nbformat_minor": 2
}
