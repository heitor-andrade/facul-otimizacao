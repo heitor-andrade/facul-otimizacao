{
 "cells": [
  {
   "cell_type": "code",
   "execution_count": 1,
   "metadata": {},
   "outputs": [
    {
     "name": "stderr",
     "output_type": "stream",
     "text": [
      "\u001b[32m\u001b[1m    Updating\u001b[22m\u001b[39m registry at `C:\\Users\\Visagio\\.julia\\registries\\General.toml`\n",
      "\u001b[32m\u001b[1m   Resolving\u001b[22m\u001b[39m package versions...\n",
      "\u001b[32m\u001b[1m  No Changes\u001b[22m\u001b[39m to `C:\\Users\\Visagio\\.julia\\environments\\v1.7\\Project.toml`\n",
      "\u001b[32m\u001b[1m  No Changes\u001b[22m\u001b[39m to `C:\\Users\\Visagio\\.julia\\environments\\v1.7\\Manifest.toml`\n",
      "\u001b[32m\u001b[1m   Resolving\u001b[22m\u001b[39m package versions...\n",
      "\u001b[32m\u001b[1m  No Changes\u001b[22m\u001b[39m to `C:\\Users\\Visagio\\.julia\\environments\\v1.7\\Project.toml`\n",
      "\u001b[32m\u001b[1m  No Changes\u001b[22m\u001b[39m to `C:\\Users\\Visagio\\.julia\\environments\\v1.7\\Manifest.toml`\n",
      "\u001b[32m\u001b[1m   Resolving\u001b[22m\u001b[39m package versions...\n",
      "\u001b[32m\u001b[1m  No Changes\u001b[22m\u001b[39m to `C:\\Users\\Visagio\\.julia\\environments\\v1.7\\Project.toml`\n",
      "\u001b[32m\u001b[1m  No Changes\u001b[22m\u001b[39m to `C:\\Users\\Visagio\\.julia\\environments\\v1.7\\Manifest.toml`\n",
      "\u001b[32m\u001b[1m   Resolving\u001b[22m\u001b[39m package versions...\n",
      "\u001b[32m\u001b[1m  No Changes\u001b[22m\u001b[39m to `C:\\Users\\Visagio\\.julia\\environments\\v1.7\\Project.toml`\n",
      "\u001b[32m\u001b[1m  No Changes\u001b[22m\u001b[39m to `C:\\Users\\Visagio\\.julia\\environments\\v1.7\\Manifest.toml`\n"
     ]
    }
   ],
   "source": [
    "import Pkg;\n",
    "Pkg.add(\"PyPlot\");\n",
    "Pkg.add(\"LinearAlgebra\");\n",
    "Pkg.add(\"OSQP\");\n",
    "Pkg.add(\"BlockDiagonals\");"
   ]
  },
  {
   "cell_type": "code",
   "execution_count": 2,
   "metadata": {},
   "outputs": [],
   "source": [
    "# b = [1,1] - a vírgula faz ser um vetor coluna\n",
    "waypts = [[0,0],\n",
    "        [1,2],\n",
    "        [2,-1],\n",
    "        [4,8],\n",
    "        [5,2]];\n",
    "\n",
    "v0 = [0,0];\n",
    "a0 = [0,0];\n",
    "v1 = [0,0];\n",
    "a1 = [0,0];\n",
    "T = 5;\n",
    "n_order = 5;"
   ]
  },
  {
   "cell_type": "code",
   "execution_count": 3,
   "metadata": {},
   "outputs": [
    {
     "data": {
      "text/plain": [
       "6×6 Matrix{Float64}:\n",
       " 0.0  0.0  0.0   0.0      0.0      0.0\n",
       " 0.0  0.0  0.0   0.0      0.0      0.0\n",
       " 0.0  0.0  0.0   0.0      0.0      0.0\n",
       " 0.0  0.0  0.0  19.4436  21.0024  18.912\n",
       " 0.0  0.0  0.0   0.0     30.2592  30.636\n",
       " 0.0  0.0  0.0   0.0      0.0     33.12"
      ]
     },
     "metadata": {},
     "output_type": "display_data"
    }
   ],
   "source": [
    "function computeQ(n, r, t1, t2)\n",
    "    T = [0.0 for i in range(1, (n-r)*2+1 )];\n",
    "    \n",
    "    for i in range(1,(n-r)*2+1)\n",
    "        T[i] =  round(t2^i - t1^i, digits = 4) # 4 dígitos é a quantidade usada no matlab\n",
    "    end\n",
    "    \n",
    "    # Q = [[0.0 for i in range(1, n+1)] for i in range(1, n+1)] # equivalente ao zeros(n+1) do matlab / produz uma matriz de zeros\n",
    "    Q = zeros(n+1, n+1)\n",
    "    \n",
    "        for i in range(r+1, n+1)\n",
    "            for j in range(i, n+1)\n",
    "                k1 = i-r-1\n",
    "                k2 = j-r-1\n",
    "                k = k1+k2+1\n",
    "                Q[i,j] = prod(k1+1:k1+r)*prod(k2+1:k2+r)/k*T[k];\n",
    "                # Q[j][i] = Q[i][j];\n",
    "            end\n",
    "        end\n",
    "        \n",
    "        return Q\n",
    "    end\n",
    "    \n",
    "n = 5; r = 3; t1 = 0.0 ; t2 = 0.5401 # argumentos de teste\n",
    "Q = computeQ(n, r, t1, t2)\n",
    "Q"
   ]
  },
  {
   "cell_type": "code",
   "execution_count": 4,
   "metadata": {},
   "outputs": [
    {
     "ename": "UndefVarError",
     "evalue": "UndefVarError: sparse not defined",
     "output_type": "error",
     "traceback": [
      "UndefVarError: sparse not defined\n",
      "\n",
      "Stacktrace:\n",
      "  [1] top-level scope\n",
      "    @ c:\\Users\\Visagio\\Desktop\\facul\\Otimização\\Projeto\\codigo final\\minimum_snap_parte_1.ipynb:4\n",
      "  [2] eval\n",
      "    @ .\\boot.jl:373 [inlined]\n",
      "  [3] include_string(mapexpr::typeof(REPL.softscope), mod::Module, code::String, filename::String)\n",
      "    @ Base .\\loading.jl:1196\n",
      "  [4] #invokelatest#2\n",
      "    @ .\\essentials.jl:716 [inlined]\n",
      "  [5] invokelatest\n",
      "    @ .\\essentials.jl:714 [inlined]\n",
      "  [6] (::VSCodeServer.var\"#150#151\"{VSCodeServer.NotebookRunCellArguments, String})()\n",
      "    @ VSCodeServer c:\\Users\\Visagio\\.vscode\\extensions\\julialang.language-julia-1.5.11\\scripts\\packages\\VSCodeServer\\src\\serve_notebook.jl:18\n",
      "  [7] withpath(f::VSCodeServer.var\"#150#151\"{VSCodeServer.NotebookRunCellArguments, String}, path::String)\n",
      "    @ VSCodeServer c:\\Users\\Visagio\\.vscode\\extensions\\julialang.language-julia-1.5.11\\scripts\\packages\\VSCodeServer\\src\\repl.jl:185\n",
      "  [8] notebook_runcell_request(conn::VSCodeServer.JSONRPC.JSONRPCEndpoint{Base.PipeEndpoint, Base.PipeEndpoint}, params::VSCodeServer.NotebookRunCellArguments)\n",
      "    @ VSCodeServer c:\\Users\\Visagio\\.vscode\\extensions\\julialang.language-julia-1.5.11\\scripts\\packages\\VSCodeServer\\src\\serve_notebook.jl:14\n",
      "  [9] dispatch_msg(x::VSCodeServer.JSONRPC.JSONRPCEndpoint{Base.PipeEndpoint, Base.PipeEndpoint}, dispatcher::VSCodeServer.JSONRPC.MsgDispatcher, msg::Dict{String, Any})\n",
      "    @ VSCodeServer.JSONRPC c:\\Users\\Visagio\\.vscode\\extensions\\julialang.language-julia-1.5.11\\scripts\\packages\\JSONRPC\\src\\typed.jl:67\n",
      " [10] serve_notebook(pipename::String; crashreporting_pipename::String)\n",
      "    @ VSCodeServer c:\\Users\\Visagio\\.vscode\\extensions\\julialang.language-julia-1.5.11\\scripts\\packages\\VSCodeServer\\src\\serve_notebook.jl:94\n",
      " [11] top-level scope\n",
      "    @ c:\\Users\\Visagio\\.vscode\\extensions\\julialang.language-julia-1.5.11\\scripts\\notebook\\notebook.jl:12\n",
      " [12] include(mod::Module, _path::String)\n",
      "    @ Base .\\Base.jl:418\n",
      " [13] exec_options(opts::Base.JLOptions)\n",
      "    @ Base .\\client.jl:292\n",
      " [14] _start()\n",
      "    @ Base .\\client.jl:495"
     ]
    }
   ],
   "source": [
    "# Calculando o Q_all : função de custo\n",
    "n_poly = 3\n",
    "ts = [1, 2, 3, 4, 5]\n",
    "Q_all = sparse(computeQ(n_order,3,ts[1],ts[1+1]) );\n",
    "\n",
    "for i = 2:n_poly\n",
    "    Q_all = BlockDiagonal([sparse(Q_all), sparse(computeQ(n_order,3,ts[i],ts[i+1]) )] );\n",
    "end\n",
    "Q_all"
   ]
  },
  {
   "cell_type": "code",
   "execution_count": 5,
   "metadata": {},
   "outputs": [
    {
     "ename": "UndefVarError",
     "evalue": "UndefVarError: Q_all not defined",
     "output_type": "error",
     "traceback": [
      "UndefVarError: Q_all not defined\n",
      "\n",
      "Stacktrace:\n",
      "  [1] top-level scope\n",
      "    @ c:\\Users\\Visagio\\Desktop\\facul\\Otimização\\Projeto\\codigo final\\minimum_snap_parte_1.ipynb:1\n",
      "  [2] eval\n",
      "    @ .\\boot.jl:373 [inlined]\n",
      "  [3] include_string(mapexpr::typeof(REPL.softscope), mod::Module, code::String, filename::String)\n",
      "    @ Base .\\loading.jl:1196\n",
      "  [4] #invokelatest#2\n",
      "    @ .\\essentials.jl:716 [inlined]\n",
      "  [5] invokelatest\n",
      "    @ .\\essentials.jl:714 [inlined]\n",
      "  [6] (::VSCodeServer.var\"#150#151\"{VSCodeServer.NotebookRunCellArguments, String})()\n",
      "    @ VSCodeServer c:\\Users\\Visagio\\.vscode\\extensions\\julialang.language-julia-1.5.11\\scripts\\packages\\VSCodeServer\\src\\serve_notebook.jl:18\n",
      "  [7] withpath(f::VSCodeServer.var\"#150#151\"{VSCodeServer.NotebookRunCellArguments, String}, path::String)\n",
      "    @ VSCodeServer c:\\Users\\Visagio\\.vscode\\extensions\\julialang.language-julia-1.5.11\\scripts\\packages\\VSCodeServer\\src\\repl.jl:185\n",
      "  [8] notebook_runcell_request(conn::VSCodeServer.JSONRPC.JSONRPCEndpoint{Base.PipeEndpoint, Base.PipeEndpoint}, params::VSCodeServer.NotebookRunCellArguments)\n",
      "    @ VSCodeServer c:\\Users\\Visagio\\.vscode\\extensions\\julialang.language-julia-1.5.11\\scripts\\packages\\VSCodeServer\\src\\serve_notebook.jl:14\n",
      "  [9] dispatch_msg(x::VSCodeServer.JSONRPC.JSONRPCEndpoint{Base.PipeEndpoint, Base.PipeEndpoint}, dispatcher::VSCodeServer.JSONRPC.MsgDispatcher, msg::Dict{String, Any})\n",
      "    @ VSCodeServer.JSONRPC c:\\Users\\Visagio\\.vscode\\extensions\\julialang.language-julia-1.5.11\\scripts\\packages\\JSONRPC\\src\\typed.jl:67\n",
      " [10] serve_notebook(pipename::String; crashreporting_pipename::String)\n",
      "    @ VSCodeServer c:\\Users\\Visagio\\.vscode\\extensions\\julialang.language-julia-1.5.11\\scripts\\packages\\VSCodeServer\\src\\serve_notebook.jl:94\n",
      " [11] top-level scope\n",
      "    @ c:\\Users\\Visagio\\.vscode\\extensions\\julialang.language-julia-1.5.11\\scripts\\notebook\\notebook.jl:12\n",
      " [12] include(mod::Module, _path::String)\n",
      "    @ Base .\\Base.jl:418\n",
      " [13] exec_options(opts::Base.JLOptions)\n",
      "    @ Base .\\client.jl:292\n",
      " [14] _start()\n",
      "    @ Base .\\client.jl:495"
     ]
    }
   ],
   "source": [
    "b_all = zeros(size(Q_all, 1), 1);"
   ]
  },
  {
   "cell_type": "code",
   "execution_count": 6,
   "metadata": {},
   "outputs": [
    {
     "data": {
      "text/plain": [
       "1×5 Matrix{Float64}:\n",
       " 0.0  0.0  0.0  6.0  24.0"
      ]
     },
     "metadata": {},
     "output_type": "display_data"
    }
   ],
   "source": [
    "function calc_tvec(t,n_order,r)\n",
    "    \n",
    "    tvec = zeros(1,n_order+1);\n",
    "    for i=range(r+1,n_order+1)\n",
    "        tvec[i] = prod(range(i-r,i-1))*t^(i-r-1);\n",
    "    end\n",
    "\n",
    "    return tvec\n",
    "end\n",
    "t = 1; n_order = 4; r = 3;\n",
    "tvec = calc_tvec(t, n_order, r)\n",
    "tvec"
   ]
  },
  {
   "cell_type": "code",
   "execution_count": 7,
   "metadata": {},
   "outputs": [
    {
     "data": {
      "text/plain": [
       "18×24 Matrix{Float64}:\n",
       " 1.0  0.0  0.0  0.0  0.0  0.0  0.0  0.0  …  0.0   0.0    0.0    0.0     0.0\n",
       " 0.0  1.0  0.0  0.0  0.0  0.0  0.0  0.0     0.0   0.0    0.0    0.0     0.0\n",
       " 0.0  0.0  2.0  0.0  0.0  0.0  0.0  0.0     0.0   0.0    0.0    0.0     0.0\n",
       " 0.0  0.0  0.0  0.0  0.0  0.0  0.0  0.0     5.0  25.0  125.0  625.0  3125.0\n",
       " 0.0  0.0  0.0  0.0  0.0  0.0  0.0  0.0     1.0  10.0   75.0  500.0  3125.0\n",
       " 0.0  0.0  0.0  0.0  0.0  0.0  0.0  0.0  …  0.0   2.0   30.0  300.0  2500.0\n",
       " 0.0  0.0  0.0  0.0  0.0  0.0  0.0  0.0     0.0   0.0    0.0    0.0     0.0\n",
       " 0.0  0.0  0.0  0.0  0.0  0.0  0.0  0.0     0.0   0.0    0.0    0.0     0.0\n",
       " 0.0  0.0  0.0  0.0  0.0  0.0  0.0  0.0     0.0   0.0    0.0    0.0     0.0\n",
       " 0.0  0.0  0.0  0.0  0.0  0.0  0.0  0.0     0.0   0.0    0.0    0.0     0.0\n",
       " 0.0  0.0  0.0  0.0  0.0  0.0  0.0  0.0  …  0.0   0.0    0.0    0.0     0.0\n",
       " 0.0  0.0  0.0  0.0  0.0  0.0  0.0  0.0     0.0   0.0    0.0    0.0     0.0\n",
       " 0.0  0.0  0.0  0.0  0.0  0.0  0.0  0.0     0.0   0.0    0.0    0.0     0.0\n",
       " 0.0  0.0  0.0  0.0  0.0  0.0  0.0  0.0     0.0   0.0    0.0    0.0     0.0\n",
       " 0.0  0.0  0.0  0.0  0.0  0.0  0.0  0.0     0.0   0.0    0.0    0.0     0.0\n",
       " 0.0  0.0  0.0  0.0  0.0  0.0  0.0  0.0  …  0.0   0.0    0.0    0.0     0.0\n",
       " 0.0  0.0  0.0  0.0  0.0  0.0  0.0  0.0     0.0   0.0    0.0    0.0     0.0\n",
       " 0.0  0.0  0.0  0.0  0.0  0.0  0.0  0.0     0.0   0.0    0.0    0.0     0.0"
      ]
     },
     "metadata": {},
     "output_type": "display_data"
    }
   ],
   "source": [
    "# Construção da matriz de restrições\n",
    "# Ainda incompleto\n",
    "\n",
    "n_order = 5\n",
    "n_coef = n_order + 1\n",
    "n_poly = length(waypts) - 1\n",
    "\n",
    "ts[1] = 0\n",
    "ts[end] = 5\n",
    "Aeq = zeros(4*n_poly+2,n_coef*n_poly);\n",
    "\n",
    "# Aeq\n",
    "Aeq[range(1,3),range(1,n_coef)] = [\n",
    "    calc_tvec(ts[1],n_order,0);\n",
    "    calc_tvec(ts[1],n_order,1);\n",
    "    calc_tvec(ts[1],n_order,2)];\n",
    "    \n",
    "    Aeq[range(4,6),range(n_coef*(n_poly-1)+1,n_coef*n_poly)] = [\n",
    "        calc_tvec(ts[end],n_order,0);\n",
    "        calc_tvec(ts[end],n_order,1);\n",
    "        calc_tvec(ts[end],n_order,2)];\n",
    "        \n",
    "Aeq"
   ]
  }
 ],
 "metadata": {
  "kernelspec": {
   "display_name": "Julia 1.7.1",
   "language": "julia",
   "name": "julia-1.7"
  },
  "language_info": {
   "file_extension": ".jl",
   "mimetype": "application/julia",
   "name": "julia",
   "version": "1.7.1"
  },
  "orig_nbformat": 4
 },
 "nbformat": 4,
 "nbformat_minor": 2
}
